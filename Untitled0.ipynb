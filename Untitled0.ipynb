{
  "nbformat": 4,
  "nbformat_minor": 0,
  "metadata": {
    "colab": {
      "provenance": [],
      "authorship_tag": "ABX9TyNpuChIQQVTWtA5NWCyXbb4",
      "include_colab_link": true
    },
    "kernelspec": {
      "name": "python3",
      "display_name": "Python 3"
    },
    "language_info": {
      "name": "python"
    }
  },
  "cells": [
    {
      "cell_type": "markdown",
      "metadata": {
        "id": "view-in-github",
        "colab_type": "text"
      },
      "source": [
        "<a href=\"https://colab.research.google.com/github/abdulkadr53/Akd/blob/main/Untitled0.ipynb\" target=\"_parent\"><img src=\"https://colab.research.google.com/assets/colab-badge.svg\" alt=\"Open In Colab\"/></a>"
      ]
    },
    {
      "cell_type": "code",
      "execution_count": null,
      "metadata": {
        "id": "6DoDYSJxnSmq"
      },
      "outputs": [],
      "source": [
        "import matplotlib.pyplot as plt\n",
        "import numpy as np\n",
        "import pandas as pd\n",
        "import seaborn as sns\n",
        "\n",
        "#Q2\n",
        "def square_even_numbers(num):\n",
        "    lst=[]\n",
        "    for i in num:\n",
        "        if i % 2 == 0:\n",
        "            x =i**2\n",
        "            lst.append(x)\n",
        "    return lst\n",
        "num = list(map(int, input().split()))\n",
        "print(square_even_numbers(num))\n",
        "\n",
        "#Q5\n",
        "x = pd.read_csv(\"airtravel.csv\")\n",
        "print(x.head(5))\n",
        "\n",
        "\n"
      ]
    },
    {
      "cell_type": "markdown",
      "source": [
        "Q1\n",
        " list is an Ordered,and mutable collection of items it Can be store different datatypes.\n",
        "   * uses closed brackt [].\n",
        "   * lst = [1, 2,'a',\"hello\"] ->\"this is example of list\"\n",
        "\n",
        "\n",
        "Dictionary is Unordered Collection of key-value pairs. the Keys is must be unique and immutable datatype like:- string, number, tuples.\n",
        "  * uses curly brace {} and access by key and Useful for lookup tables.\n",
        "  * example of dictionary\n",
        "  dict1 = {1: 'D',\n",
        "         2: 'B',\n",
        "         3: 'B',\n",
        "         4: 'E',\n",
        "         5: 'A'}\n",
        "NumPy Array is a multidimentional array Provided by the numpy library. it Stores the same datatype usually numbers.\n",
        " * nmp_arry = np.array([53,01,40,67]) -> example of numpy array\n",
        "Q2 lst=[] -> create empty list to store the value of squre number lists\n",
        "Q3  the output [1, 2, 3, 4] because the append affects\n",
        "Q4 .shape returns the dimensions of the DataFrame like: rows and column.\n",
        ".describe() return statistics or each numeric column like: count, min, max ,mean, std, quartiles,decile, percentails.\n",
        "Q5 pd.read_csv(\"airtravel.csv\") -> read the csv file named airtravel and the x is a variable name and the argument 5 in head() is Display the first 5 rows of the DataFrame\n",
        "Q6 based on Q5 with the first 5 rows of data the month with the highest total passengers is may is the highest total passengers with 1,255 and  month with the lowest passengers in 1958 is February with 318 passengers ***italicized text***"
      ],
      "metadata": {
        "id": "qC_NMuvxBiXw"
      }
    }
  ]
}