{
  "nbformat": 4,
  "nbformat_minor": 0,
  "metadata": {
    "colab": {
      "provenance": [],
      "authorship_tag": "ABX9TyN//L2hGGbIotHR2kwlrxcM",
      "include_colab_link": true
    },
    "kernelspec": {
      "name": "python3",
      "display_name": "Python 3"
    },
    "language_info": {
      "name": "python"
    }
  },
  "cells": [
    {
      "cell_type": "markdown",
      "metadata": {
        "id": "view-in-github",
        "colab_type": "text"
      },
      "source": [
        "<a href=\"https://colab.research.google.com/github/abdulkadr53/Akd/blob/main/Untitled0.ipynb\" target=\"_parent\"><img src=\"https://colab.research.google.com/assets/colab-badge.svg\" alt=\"Open In Colab\"/></a>"
      ]
    },
    {
      "cell_type": "code",
      "execution_count": 1,
      "metadata": {
        "id": "6DoDYSJxnSmq"
      },
      "outputs": [],
      "source": [
        "import matplotlib.pyplot as plt\n",
        "import numpy as np\n",
        "import pandas as pd\n",
        "import seaborn as sns\n",
        "\"\"\"Q1\n",
        "list is an Ordered,and mutable collection of items it Can be store different datatypes.\n",
        "   uses closed brackt [].  lst = [1, 2,'a',\"hello\"]\n",
        "Dictionary is Unordered Collection of key-value pairs. the Keys is must be unique and immutable datatype like:- string, number, tuples.\n",
        "  uses curly brace {} and access by key and Useful for lookup tables.\n",
        "  dict1 = {1: 'D',\n",
        "         2: 'B',\n",
        "         3: 'B',\n",
        "         4: 'E',\n",
        "         5: 'A'}\n",
        "NumPy Array is a multidimentional array Provided by the numpy library. it Stores the same datatype usually numbers.\n",
        " nmp_arry = np.array([53,01,40,67])\n",
        "\"\"\"\n",
        "#Q2\n",
        "def square_even_numbers(numbers):\n",
        "  for num in numbers:\n",
        "    if num % 2 == 0:\n",
        "      x =num ** 2\n",
        "      return x\n",
        "numbers = list(map(int, input().split()))\n",
        "print(square_even_numbers(numbers))\n",
        "\"\"\"Q3   the output [1, 2, 3, 4] because the append affects\"\"\"\n",
        "\"\"\"Q4 .shape returns the dimensions of the DataFrame like: rows and column .\n",
        ".describe() return statistics for each numeric column like: count, min, max ,mean, std, quartiles,decile, percentails.\"\"\"\n",
        "\n",
        "\n"
      ]
    },
    {
      "cell_type": "markdown",
      "source": [],
      "metadata": {
        "id": "TTHsSsFZpDEq"
      }
    }
  ]
}